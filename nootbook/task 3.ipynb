{
 "cells": [
  {
   "cell_type": "markdown",
   "id": "b046d95f-d511-40f1-b79f-a3ca2cf59a6c",
   "metadata": {},
   "source": [
    "## Experience Analytics"
   ]
  },
  {
   "cell_type": "code",
   "execution_count": null,
   "id": "9c625bd5-51f4-4a20-a84d-fe7869dca772",
   "metadata": {},
   "outputs": [],
   "source": [
    "import pandas as pd\n",
    "import numpy as np\n",
    "import matplotlib.pyplot as plt\n",
    "import seaborn as sns\n",
    "from sklearn.cluster import KMeans\n",
    "from sklearn.preprocessing import StandardScaler\n",
    "\n",
    "# Set up visualization style\n",
    "sns.set(style=\"whitegrid\")\n"
   ]
  },
  {
   "cell_type": "code",
   "execution_count": null,
   "id": "d2df2fcb-74dc-4246-abcb-e9f3b91cc322",
   "metadata": {},
   "outputs": [],
   "source": [
    "#load the dataset\n",
    "df = pd.read_csv(r\"C:\\Users\\hp\\Downloads\\Data-20241219T180034Z-001\\Data\\Copy of Week2_challenge_data_source(CSV).csv\")\n",
    "\n",
    "df.head()"
   ]
  },
  {
   "cell_type": "code",
   "execution_count": 7,
   "id": "507f689c-dbe5-437e-aae6-879ccd4130ff",
   "metadata": {},
   "outputs": [
    {
     "name": "stdout",
     "output_type": "stream",
     "text": [
      "   MSISDN/Number  avg_uplink_bytes  avg_downlink_bytes  most_used_device\n",
      "0   3.360100e+10        36053108.0         842637466.0      8.627420e+13\n",
      "1   3.360100e+10        36104459.0         120755184.0      3.553261e+13\n",
      "2   3.360100e+10        39306820.0         556659663.0      3.561271e+13\n",
      "3   3.360101e+10        20327526.0         401993172.0      3.520491e+13\n",
      "4   3.360101e+10        47140263.5         681565208.5      3.530681e+13\n"
     ]
    }
   ],
   "source": [
    "\n",
    "# Aggregate per Customer\n",
    "\n",
    "# Replace missing values with mean (for numeric) or mode (for categorical)\n",
    "df['Total UL (Bytes)'] = df['Total UL (Bytes)'].fillna(df['Total UL (Bytes)'].mean())\n",
    "df['Total DL (Bytes)'] = df['Total DL (Bytes)'].fillna(df['Total DL (Bytes)'].mean())\n",
    "df['IMEI'] = df['IMEI'].fillna(df['IMEI'].mode()[0])\n",
    "\n",
    "# Aggregate metrics by IMSI (assuming it represents the customer ID)\n",
    "aggregated_df = df.groupby('MSISDN/Number').agg({\n",
    "    'Total UL (Bytes)': 'mean',\n",
    "    'Total DL (Bytes)': 'mean',\n",
    "    'IMEI': lambda x: x.mode()[0]  # Most frequently used device\n",
    "}).reset_index()\n",
    "\n",
    "# Rename columns\n",
    "aggregated_df.rename(columns={\n",
    "    'Total UL (Bytes)': 'avg_uplink_bytes',\n",
    "    'Total DL (Bytes)': 'avg_downlink_bytes',\n",
    "    'IMEI': 'most_used_device'\n",
    "}, inplace=True)\n",
    "\n",
    "\n",
    "print(aggregated_df.head())"
   ]
  },
  {
   "cell_type": "code",
   "execution_count": null,
   "id": "6baa4517-873c-4b9c-84a6-d4e20cddd241",
   "metadata": {},
   "outputs": [],
   "source": [
    "# Top 10 and Bottom 10 for Total UL and DL Bytes\n",
    "top_10_ul = df['Total UL (Bytes)'].nlargest(10)\n",
    "bottom_10_ul = df['Total UL (Bytes)'].nsmallest(10)\n",
    "most_frequent_ul = df['Total UL (Bytes)'].value_counts().head(10)\n",
    "\n",
    "top_10_dl = df['Total DL (Bytes)'].nlargest(10)\n",
    "bottom_10_dl = df['Total DL (Bytes)'].nsmallest(10)\n",
    "most_frequent_dl = df['Total DL (Bytes)'].value_counts().head(10)\n",
    "\n",
    "# Create dataframes for display\n",
    "ul_table = pd.DataFrame({\n",
    "    'Top 10 Uplink Bytes': top_10_ul.values,\n",
    "    'Bottom 10 Uplink Bytes': bottom_10_ul.values,\n",
    "    'Most Frequent Uplink Bytes': most_frequent_ul.index\n",
    "})\n",
    "\n",
    "dl_table = pd.DataFrame({\n",
    "    'Top 10 Downlink Bytes': top_10_dl.values,\n",
    "    'Bottom 10 Downlink Bytes': bottom_10_dl.values,\n",
    "    'Most Frequent Downlink Bytes': most_frequent_dl.index\n",
    "})\n",
    "\n",
    "# Display results\n",
    "print(\"\\nUplink Bytes Table:\")\n",
    "print(ul_table)\n",
    "\n",
    "print(\"\\nDownlink Bytes Table:\")\n",
    "print(dl_table)\n"
   ]
  },
  {
   "cell_type": "code",
   "execution_count": null,
   "id": "24bed937-d9df-4a48-a87e-a61a9efb6828",
   "metadata": {},
   "outputs": [],
   "source": [
    "# Average bytes per device type (IMEI)\n",
    "uplink_by_device = df.groupby('IMEI')['Total UL (Bytes)'].mean().sort_values(ascending=False)\n",
    "downlink_by_device = df.groupby('IMEI')['Total DL (Bytes)'].mean().sort_values(ascending=False)\n",
    "\n",
    "# Plotting\n",
    "plt.figure(figsize=(14, 6))\n",
    "\n",
    "# Uplink\n",
    "plt.subplot(1, 2, 1)\n",
    "uplink_by_device.plot(kind='bar', color='skyblue')\n",
    "plt.title('Average Uplink Bytes per Device Type')\n",
    "plt.ylabel('Uplink Bytes')\n",
    "plt.xlabel('Device Type')\n",
    "\n",
    "# Downlink\n",
    "plt.subplot(1, 2, 2)\n",
    "downlink_by_device.plot(kind='bar', color='salmon')\n",
    "plt.title('Average Downlink Bytes per Device Type')\n",
    "plt.ylabel('Downlink Bytes')\n",
    "plt.xlabel('Device Type')\n",
    "\n",
    "plt.tight_layout()\n",
    "plt.show()"
   ]
  },
  {
   "cell_type": "markdown",
   "id": "90909593-e7d0-41d8-abd8-4906e1d030e2",
   "metadata": {},
   "source": [
    "## K-Means Clustering"
   ]
  },
  {
   "cell_type": "code",
   "execution_count": null,
   "id": "b8a7b587-c2e6-45af-a647-3b70954a9ab2",
   "metadata": {},
   "outputs": [],
   "source": [
    "\n",
    "# Select features for clustering\n",
    "features = df[['Total UL (Bytes)', 'Total DL (Bytes)']]\n",
    "\n",
    "# Standardize features\n",
    "scaler = StandardScaler()\n",
    "features_scaled = scaler.fit_transform(features)\n",
    "\n",
    "# Apply K-means clustering\n",
    "kmeans = KMeans(n_clusters=3, random_state=42)\n",
    "df['experience_cluster'] = kmeans.fit_predict(features_scaled)\n",
    "\n",
    "# Analyze cluster centers\n",
    "cluster_centers = scaler.inverse_transform(kmeans.cluster_centers_)\n",
    "print(\"\\nCluster Centers (Uplink, Downlink):\\n\", cluster_centers)\n",
    "\n",
    "# Plot clusters\n",
    "plt.figure(figsize=(8, 6))\n",
    "sns.scatterplot(data=df, x='Total DL (Bytes)', y='Total UL (Bytes)', hue='experience_cluster', palette='viridis')\n",
    "plt.title('Experience Clusters')\n",
    "plt.xlabel('Downlink Bytes')\n",
    "plt.ylabel('Uplink Bytes')\n",
    "plt.legend(title='Cluster')\n",
    "plt.show()"
   ]
  },
  {
   "cell_type": "code",
   "execution_count": null,
   "id": "1b185ac1-6aa4-452f-a822-cf5d34219b51",
   "metadata": {},
   "outputs": [],
   "source": []
  }
 ],
 "metadata": {
  "kernelspec": {
   "display_name": "Python 3 (ipykernel)",
   "language": "python",
   "name": "python3"
  },
  "language_info": {
   "codemirror_mode": {
    "name": "ipython",
    "version": 3
   },
   "file_extension": ".py",
   "mimetype": "text/x-python",
   "name": "python",
   "nbconvert_exporter": "python",
   "pygments_lexer": "ipython3",
   "version": "3.12.4"
  }
 },
 "nbformat": 4,
 "nbformat_minor": 5
}
